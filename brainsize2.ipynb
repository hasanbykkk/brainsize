{
 "cells": [
  {
   "cell_type": "code",
   "execution_count": 2,
   "id": "d7207196",
   "metadata": {},
   "outputs": [],
   "source": [
    "import pandas as pd\n",
    "brainFile = r\"C:\\Users\\hasan\\Downloads\\brainsize.txt\"\n",
    "brainFrame = pd.read_csv(brainFile)"
   ]
  },
  {
   "cell_type": "code",
   "execution_count": 3,
   "id": "253d9fe9",
   "metadata": {},
   "outputs": [
    {
     "data": {
      "text/html": [
       "<div>\n",
       "<style scoped>\n",
       "    .dataframe tbody tr th:only-of-type {\n",
       "        vertical-align: middle;\n",
       "    }\n",
       "\n",
       "    .dataframe tbody tr th {\n",
       "        vertical-align: top;\n",
       "    }\n",
       "\n",
       "    .dataframe thead th {\n",
       "        text-align: right;\n",
       "    }\n",
       "</style>\n",
       "<table border=\"1\" class=\"dataframe\">\n",
       "  <thead>\n",
       "    <tr style=\"text-align: right;\">\n",
       "      <th></th>\n",
       "      <th>Gender</th>\n",
       "      <th>FSIQ</th>\n",
       "      <th>VIQ</th>\n",
       "      <th>PIQ</th>\n",
       "      <th>Weight</th>\n",
       "      <th>Height</th>\n",
       "      <th>MRI_Count</th>\n",
       "    </tr>\n",
       "  </thead>\n",
       "  <tbody>\n",
       "    <tr>\n",
       "      <th>0</th>\n",
       "      <td>Female</td>\n",
       "      <td>133</td>\n",
       "      <td>132</td>\n",
       "      <td>124</td>\n",
       "      <td>118.0</td>\n",
       "      <td>64.5</td>\n",
       "      <td>816932</td>\n",
       "    </tr>\n",
       "    <tr>\n",
       "      <th>1</th>\n",
       "      <td>Male</td>\n",
       "      <td>140</td>\n",
       "      <td>150</td>\n",
       "      <td>124</td>\n",
       "      <td>NaN</td>\n",
       "      <td>72.5</td>\n",
       "      <td>1001121</td>\n",
       "    </tr>\n",
       "    <tr>\n",
       "      <th>2</th>\n",
       "      <td>Male</td>\n",
       "      <td>139</td>\n",
       "      <td>123</td>\n",
       "      <td>150</td>\n",
       "      <td>143.0</td>\n",
       "      <td>73.3</td>\n",
       "      <td>1038437</td>\n",
       "    </tr>\n",
       "    <tr>\n",
       "      <th>3</th>\n",
       "      <td>Male</td>\n",
       "      <td>133</td>\n",
       "      <td>129</td>\n",
       "      <td>128</td>\n",
       "      <td>172.0</td>\n",
       "      <td>68.8</td>\n",
       "      <td>965353</td>\n",
       "    </tr>\n",
       "    <tr>\n",
       "      <th>4</th>\n",
       "      <td>Female</td>\n",
       "      <td>137</td>\n",
       "      <td>132</td>\n",
       "      <td>134</td>\n",
       "      <td>147.0</td>\n",
       "      <td>65.0</td>\n",
       "      <td>951545</td>\n",
       "    </tr>\n",
       "  </tbody>\n",
       "</table>\n",
       "</div>"
      ],
      "text/plain": [
       "   Gender  FSIQ  VIQ  PIQ  Weight  Height  MRI_Count\n",
       "0  Female   133  132  124   118.0    64.5     816932\n",
       "1    Male   140  150  124     NaN    72.5    1001121\n",
       "2    Male   139  123  150   143.0    73.3    1038437\n",
       "3    Male   133  129  128   172.0    68.8     965353\n",
       "4  Female   137  132  134   147.0    65.0     951545"
      ]
     },
     "execution_count": 3,
     "metadata": {},
     "output_type": "execute_result"
    }
   ],
   "source": [
    "brainFrame.head()"
   ]
  },
  {
   "cell_type": "code",
   "execution_count": 4,
   "id": "9e1fd021",
   "metadata": {},
   "outputs": [
    {
     "data": {
      "text/html": [
       "<div>\n",
       "<style scoped>\n",
       "    .dataframe tbody tr th:only-of-type {\n",
       "        vertical-align: middle;\n",
       "    }\n",
       "\n",
       "    .dataframe tbody tr th {\n",
       "        vertical-align: top;\n",
       "    }\n",
       "\n",
       "    .dataframe thead th {\n",
       "        text-align: right;\n",
       "    }\n",
       "</style>\n",
       "<table border=\"1\" class=\"dataframe\">\n",
       "  <thead>\n",
       "    <tr style=\"text-align: right;\">\n",
       "      <th></th>\n",
       "      <th>FSIQ</th>\n",
       "      <th>VIQ</th>\n",
       "      <th>PIQ</th>\n",
       "      <th>Weight</th>\n",
       "      <th>Height</th>\n",
       "      <th>MRI_Count</th>\n",
       "    </tr>\n",
       "  </thead>\n",
       "  <tbody>\n",
       "    <tr>\n",
       "      <th>count</th>\n",
       "      <td>40.000000</td>\n",
       "      <td>40.000000</td>\n",
       "      <td>40.00000</td>\n",
       "      <td>38.000000</td>\n",
       "      <td>39.000000</td>\n",
       "      <td>4.000000e+01</td>\n",
       "    </tr>\n",
       "    <tr>\n",
       "      <th>mean</th>\n",
       "      <td>113.450000</td>\n",
       "      <td>112.350000</td>\n",
       "      <td>111.02500</td>\n",
       "      <td>151.052632</td>\n",
       "      <td>68.525641</td>\n",
       "      <td>9.087550e+05</td>\n",
       "    </tr>\n",
       "    <tr>\n",
       "      <th>std</th>\n",
       "      <td>24.082071</td>\n",
       "      <td>23.616107</td>\n",
       "      <td>22.47105</td>\n",
       "      <td>23.478509</td>\n",
       "      <td>3.994649</td>\n",
       "      <td>7.228205e+04</td>\n",
       "    </tr>\n",
       "    <tr>\n",
       "      <th>min</th>\n",
       "      <td>77.000000</td>\n",
       "      <td>71.000000</td>\n",
       "      <td>72.00000</td>\n",
       "      <td>106.000000</td>\n",
       "      <td>62.000000</td>\n",
       "      <td>7.906190e+05</td>\n",
       "    </tr>\n",
       "    <tr>\n",
       "      <th>25%</th>\n",
       "      <td>89.750000</td>\n",
       "      <td>90.000000</td>\n",
       "      <td>88.25000</td>\n",
       "      <td>135.250000</td>\n",
       "      <td>66.000000</td>\n",
       "      <td>8.559185e+05</td>\n",
       "    </tr>\n",
       "    <tr>\n",
       "      <th>50%</th>\n",
       "      <td>116.500000</td>\n",
       "      <td>113.000000</td>\n",
       "      <td>115.00000</td>\n",
       "      <td>146.500000</td>\n",
       "      <td>68.000000</td>\n",
       "      <td>9.053990e+05</td>\n",
       "    </tr>\n",
       "    <tr>\n",
       "      <th>75%</th>\n",
       "      <td>135.500000</td>\n",
       "      <td>129.750000</td>\n",
       "      <td>128.00000</td>\n",
       "      <td>172.000000</td>\n",
       "      <td>70.500000</td>\n",
       "      <td>9.500780e+05</td>\n",
       "    </tr>\n",
       "    <tr>\n",
       "      <th>max</th>\n",
       "      <td>144.000000</td>\n",
       "      <td>150.000000</td>\n",
       "      <td>150.00000</td>\n",
       "      <td>192.000000</td>\n",
       "      <td>77.000000</td>\n",
       "      <td>1.079549e+06</td>\n",
       "    </tr>\n",
       "  </tbody>\n",
       "</table>\n",
       "</div>"
      ],
      "text/plain": [
       "             FSIQ         VIQ        PIQ      Weight     Height     MRI_Count\n",
       "count   40.000000   40.000000   40.00000   38.000000  39.000000  4.000000e+01\n",
       "mean   113.450000  112.350000  111.02500  151.052632  68.525641  9.087550e+05\n",
       "std     24.082071   23.616107   22.47105   23.478509   3.994649  7.228205e+04\n",
       "min     77.000000   71.000000   72.00000  106.000000  62.000000  7.906190e+05\n",
       "25%     89.750000   90.000000   88.25000  135.250000  66.000000  8.559185e+05\n",
       "50%    116.500000  113.000000  115.00000  146.500000  68.000000  9.053990e+05\n",
       "75%    135.500000  129.750000  128.00000  172.000000  70.500000  9.500780e+05\n",
       "max    144.000000  150.000000  150.00000  192.000000  77.000000  1.079549e+06"
      ]
     },
     "execution_count": 4,
     "metadata": {},
     "output_type": "execute_result"
    }
   ],
   "source": [
    "brainFrame.describe()"
   ]
  },
  {
   "cell_type": "code",
   "execution_count": 5,
   "id": "4ce3d8f0",
   "metadata": {},
   "outputs": [],
   "source": [
    "import numpy as np\n",
    "import matplotlib.pyplot as plt"
   ]
  },
  {
   "cell_type": "code",
   "execution_count": 6,
   "id": "5bb07122",
   "metadata": {},
   "outputs": [],
   "source": [
    "menDf = brainFrame[(brainFrame.Gender == 'Male')]\n",
    "womenDf = brainFrame[(brainFrame.Gender == 'Female')]"
   ]
  },
  {
   "cell_type": "code",
   "execution_count": 7,
   "id": "cf09d991",
   "metadata": {},
   "outputs": [
    {
     "data": {
      "image/png": "[encoded data removed]",
      "text/plain": [
       "<Figure size 432x288 with 1 Axes>"
      ]
     },
     "metadata": {
      "needs_background": "light"
     },
     "output_type": "display_data"
    }
   ],
   "source": [
    "menMeanSmarts = menDf[[\"PIQ\", \"FSIQ\", \"VIQ\"]].mean(axis=1)\n",
    "plt.scatter(menMeanSmarts, menDf[\"MRI_Count\"])\n",
    "plt.show()\n",
    "%matplotlib inline"
   ]
  },
  {
   "cell_type": "code",
   "execution_count": 8,
   "id": "fe15bbf7",
   "metadata": {},
   "outputs": [
    {
     "data": {
      "image/png": "[encoded data removed]",
      "text/plain": [
       "<Figure size 432x288 with 1 Axes>"
      ]
     },
     "metadata": {
      "needs_background": "light"
     },
     "output_type": "display_data"
    }
   ],
   "source": [
    "womenMeanSmarts = womenDf[[\"PIQ\", \"FSIQ\", \"VIQ\"]].mean(axis=1)\n",
    "plt.scatter(womenMeanSmarts, womenDf[\"MRI_Count\"])\n",
    "plt.show()\n",
    "%matplotlib inline"
   ]
  },
  {
   "cell_type": "code",
   "execution_count": 9,
   "id": "0e574cfa",
   "metadata": {},
   "outputs": [
    {
     "data": {
      "text/html": [
       "<div>\n",
       "<style scoped>\n",
       "    .dataframe tbody tr th:only-of-type {\n",
       "        vertical-align: middle;\n",
       "    }\n",
       "\n",
       "    .dataframe tbody tr th {\n",
       "        vertical-align: top;\n",
       "    }\n",
       "\n",
       "    .dataframe thead th {\n",
       "        text-align: right;\n",
       "    }\n",
       "</style>\n",
       "<table border=\"1\" class=\"dataframe\">\n",
       "  <thead>\n",
       "    <tr style=\"text-align: right;\">\n",
       "      <th></th>\n",
       "      <th>FSIQ</th>\n",
       "      <th>VIQ</th>\n",
       "      <th>PIQ</th>\n",
       "      <th>Weight</th>\n",
       "      <th>Height</th>\n",
       "      <th>MRI_Count</th>\n",
       "    </tr>\n",
       "  </thead>\n",
       "  <tbody>\n",
       "    <tr>\n",
       "      <th>FSIQ</th>\n",
       "      <td>1.000000</td>\n",
       "      <td>0.946639</td>\n",
       "      <td>0.934125</td>\n",
       "      <td>-0.051483</td>\n",
       "      <td>-0.086002</td>\n",
       "      <td>0.357641</td>\n",
       "    </tr>\n",
       "    <tr>\n",
       "      <th>VIQ</th>\n",
       "      <td>0.946639</td>\n",
       "      <td>1.000000</td>\n",
       "      <td>0.778135</td>\n",
       "      <td>-0.076088</td>\n",
       "      <td>-0.071068</td>\n",
       "      <td>0.337478</td>\n",
       "    </tr>\n",
       "    <tr>\n",
       "      <th>PIQ</th>\n",
       "      <td>0.934125</td>\n",
       "      <td>0.778135</td>\n",
       "      <td>1.000000</td>\n",
       "      <td>0.002512</td>\n",
       "      <td>-0.076723</td>\n",
       "      <td>0.386817</td>\n",
       "    </tr>\n",
       "    <tr>\n",
       "      <th>Weight</th>\n",
       "      <td>-0.051483</td>\n",
       "      <td>-0.076088</td>\n",
       "      <td>0.002512</td>\n",
       "      <td>1.000000</td>\n",
       "      <td>0.699614</td>\n",
       "      <td>0.513378</td>\n",
       "    </tr>\n",
       "    <tr>\n",
       "      <th>Height</th>\n",
       "      <td>-0.086002</td>\n",
       "      <td>-0.071068</td>\n",
       "      <td>-0.076723</td>\n",
       "      <td>0.699614</td>\n",
       "      <td>1.000000</td>\n",
       "      <td>0.601712</td>\n",
       "    </tr>\n",
       "    <tr>\n",
       "      <th>MRI_Count</th>\n",
       "      <td>0.357641</td>\n",
       "      <td>0.337478</td>\n",
       "      <td>0.386817</td>\n",
       "      <td>0.513378</td>\n",
       "      <td>0.601712</td>\n",
       "      <td>1.000000</td>\n",
       "    </tr>\n",
       "  </tbody>\n",
       "</table>\n",
       "</div>"
      ],
      "text/plain": [
       "               FSIQ       VIQ       PIQ    Weight    Height  MRI_Count\n",
       "FSIQ       1.000000  0.946639  0.934125 -0.051483 -0.086002   0.357641\n",
       "VIQ        0.946639  1.000000  0.778135 -0.076088 -0.071068   0.337478\n",
       "PIQ        0.934125  0.778135  1.000000  0.002512 -0.076723   0.386817\n",
       "Weight    -0.051483 -0.076088  0.002512  1.000000  0.699614   0.513378\n",
       "Height    -0.086002 -0.071068 -0.076723  0.699614  1.000000   0.601712\n",
       "MRI_Count  0.357641  0.337478  0.386817  0.513378  0.601712   1.000000"
      ]
     },
     "execution_count": 9,
     "metadata": {},
     "output_type": "execute_result"
    }
   ],
   "source": [
    "brainFrame.corr(method='pearson')"
   ]
  },
  {
   "cell_type": "code",
   "execution_count": 10,
   "id": "4843b4bf",
   "metadata": {},
   "outputs": [
    {
     "data": {
      "text/html": [
       "<div>\n",
       "<style scoped>\n",
       "    .dataframe tbody tr th:only-of-type {\n",
       "        vertical-align: middle;\n",
       "    }\n",
       "\n",
       "    .dataframe tbody tr th {\n",
       "        vertical-align: top;\n",
       "    }\n",
       "\n",
       "    .dataframe thead th {\n",
       "        text-align: right;\n",
       "    }\n",
       "</style>\n",
       "<table border=\"1\" class=\"dataframe\">\n",
       "  <thead>\n",
       "    <tr style=\"text-align: right;\">\n",
       "      <th></th>\n",
       "      <th>FSIQ</th>\n",
       "      <th>VIQ</th>\n",
       "      <th>PIQ</th>\n",
       "      <th>Weight</th>\n",
       "      <th>Height</th>\n",
       "      <th>MRI_Count</th>\n",
       "    </tr>\n",
       "  </thead>\n",
       "  <tbody>\n",
       "    <tr>\n",
       "      <th>FSIQ</th>\n",
       "      <td>1.000000</td>\n",
       "      <td>0.955717</td>\n",
       "      <td>0.939382</td>\n",
       "      <td>0.038192</td>\n",
       "      <td>-0.059011</td>\n",
       "      <td>0.325697</td>\n",
       "    </tr>\n",
       "    <tr>\n",
       "      <th>VIQ</th>\n",
       "      <td>0.955717</td>\n",
       "      <td>1.000000</td>\n",
       "      <td>0.802652</td>\n",
       "      <td>-0.021889</td>\n",
       "      <td>-0.146453</td>\n",
       "      <td>0.254933</td>\n",
       "    </tr>\n",
       "    <tr>\n",
       "      <th>PIQ</th>\n",
       "      <td>0.939382</td>\n",
       "      <td>0.802652</td>\n",
       "      <td>1.000000</td>\n",
       "      <td>0.113901</td>\n",
       "      <td>-0.001242</td>\n",
       "      <td>0.396157</td>\n",
       "    </tr>\n",
       "    <tr>\n",
       "      <th>Weight</th>\n",
       "      <td>0.038192</td>\n",
       "      <td>-0.021889</td>\n",
       "      <td>0.113901</td>\n",
       "      <td>1.000000</td>\n",
       "      <td>0.552357</td>\n",
       "      <td>0.446271</td>\n",
       "    </tr>\n",
       "    <tr>\n",
       "      <th>Height</th>\n",
       "      <td>-0.059011</td>\n",
       "      <td>-0.146453</td>\n",
       "      <td>-0.001242</td>\n",
       "      <td>0.552357</td>\n",
       "      <td>1.000000</td>\n",
       "      <td>0.174541</td>\n",
       "    </tr>\n",
       "    <tr>\n",
       "      <th>MRI_Count</th>\n",
       "      <td>0.325697</td>\n",
       "      <td>0.254933</td>\n",
       "      <td>0.396157</td>\n",
       "      <td>0.446271</td>\n",
       "      <td>0.174541</td>\n",
       "      <td>1.000000</td>\n",
       "    </tr>\n",
       "  </tbody>\n",
       "</table>\n",
       "</div>"
      ],
      "text/plain": [
       "               FSIQ       VIQ       PIQ    Weight    Height  MRI_Count\n",
       "FSIQ       1.000000  0.955717  0.939382  0.038192 -0.059011   0.325697\n",
       "VIQ        0.955717  1.000000  0.802652 -0.021889 -0.146453   0.254933\n",
       "PIQ        0.939382  0.802652  1.000000  0.113901 -0.001242   0.396157\n",
       "Weight     0.038192 -0.021889  0.113901  1.000000  0.552357   0.446271\n",
       "Height    -0.059011 -0.146453 -0.001242  0.552357  1.000000   0.174541\n",
       "MRI_Count  0.325697  0.254933  0.396157  0.446271  0.174541   1.000000"
      ]
     },
     "execution_count": 10,
     "metadata": {},
     "output_type": "execute_result"
    }
   ],
   "source": [
    "womenDf.corr(method='pearson')"
   ]
  },
  {
   "cell_type": "code",
   "execution_count": 11,
   "id": "87d6e04e",
   "metadata": {},
   "outputs": [
    {
     "data": {
      "text/html": [
       "<div>\n",
       "<style scoped>\n",
       "    .dataframe tbody tr th:only-of-type {\n",
       "        vertical-align: middle;\n",
       "    }\n",
       "\n",
       "    .dataframe tbody tr th {\n",
       "        vertical-align: top;\n",
       "    }\n",
       "\n",
       "    .dataframe thead th {\n",
       "        text-align: right;\n",
       "    }\n",
       "</style>\n",
       "<table border=\"1\" class=\"dataframe\">\n",
       "  <thead>\n",
       "    <tr style=\"text-align: right;\">\n",
       "      <th></th>\n",
       "      <th>FSIQ</th>\n",
       "      <th>VIQ</th>\n",
       "      <th>PIQ</th>\n",
       "      <th>Weight</th>\n",
       "      <th>Height</th>\n",
       "      <th>MRI_Count</th>\n",
       "    </tr>\n",
       "  </thead>\n",
       "  <tbody>\n",
       "    <tr>\n",
       "      <th>FSIQ</th>\n",
       "      <td>1.000000</td>\n",
       "      <td>0.944400</td>\n",
       "      <td>0.930694</td>\n",
       "      <td>-0.278140</td>\n",
       "      <td>-0.356110</td>\n",
       "      <td>0.498369</td>\n",
       "    </tr>\n",
       "    <tr>\n",
       "      <th>VIQ</th>\n",
       "      <td>0.944400</td>\n",
       "      <td>1.000000</td>\n",
       "      <td>0.766021</td>\n",
       "      <td>-0.350453</td>\n",
       "      <td>-0.355588</td>\n",
       "      <td>0.413105</td>\n",
       "    </tr>\n",
       "    <tr>\n",
       "      <th>PIQ</th>\n",
       "      <td>0.930694</td>\n",
       "      <td>0.766021</td>\n",
       "      <td>1.000000</td>\n",
       "      <td>-0.156863</td>\n",
       "      <td>-0.287676</td>\n",
       "      <td>0.568237</td>\n",
       "    </tr>\n",
       "    <tr>\n",
       "      <th>Weight</th>\n",
       "      <td>-0.278140</td>\n",
       "      <td>-0.350453</td>\n",
       "      <td>-0.156863</td>\n",
       "      <td>1.000000</td>\n",
       "      <td>0.406542</td>\n",
       "      <td>-0.076875</td>\n",
       "    </tr>\n",
       "    <tr>\n",
       "      <th>Height</th>\n",
       "      <td>-0.356110</td>\n",
       "      <td>-0.355588</td>\n",
       "      <td>-0.287676</td>\n",
       "      <td>0.406542</td>\n",
       "      <td>1.000000</td>\n",
       "      <td>0.301543</td>\n",
       "    </tr>\n",
       "    <tr>\n",
       "      <th>MRI_Count</th>\n",
       "      <td>0.498369</td>\n",
       "      <td>0.413105</td>\n",
       "      <td>0.568237</td>\n",
       "      <td>-0.076875</td>\n",
       "      <td>0.301543</td>\n",
       "      <td>1.000000</td>\n",
       "    </tr>\n",
       "  </tbody>\n",
       "</table>\n",
       "</div>"
      ],
      "text/plain": [
       "               FSIQ       VIQ       PIQ    Weight    Height  MRI_Count\n",
       "FSIQ       1.000000  0.944400  0.930694 -0.278140 -0.356110   0.498369\n",
       "VIQ        0.944400  1.000000  0.766021 -0.350453 -0.355588   0.413105\n",
       "PIQ        0.930694  0.766021  1.000000 -0.156863 -0.287676   0.568237\n",
       "Weight    -0.278140 -0.350453 -0.156863  1.000000  0.406542  -0.076875\n",
       "Height    -0.356110 -0.355588 -0.287676  0.406542  1.000000   0.301543\n",
       "MRI_Count  0.498369  0.413105  0.568237 -0.076875  0.301543   1.000000"
      ]
     },
     "execution_count": 11,
     "metadata": {},
     "output_type": "execute_result"
    }
   ],
   "source": [
    "menDf.corr(method='pearson')"
   ]
  },
  {
   "cell_type": "code",
   "execution_count": 12,
   "id": "f56d8bd3",
   "metadata": {},
   "outputs": [
    {
     "name": "stdout",
     "output_type": "stream",
     "text": [
      "Requirement already satisfied: seaborn in c:\\users\\hasan\\anaconda3\\lib\\site-packages (0.11.2)\n",
      "Requirement already satisfied: pandas>=0.23 in c:\\users\\hasan\\anaconda3\\lib\\site-packages (from seaborn) (1.4.2)\n",
      "Requirement already satisfied: scipy>=1.0 in c:\\users\\hasan\\anaconda3\\lib\\site-packages (from seaborn) (1.7.3)\n",
      "Requirement already satisfied: matplotlib>=2.2 in c:\\users\\hasan\\anaconda3\\lib\\site-packages (from seaborn) (3.5.1)\n",
      "Requirement already satisfied: numpy>=1.15 in c:\\users\\hasan\\anaconda3\\lib\\site-packages (from seaborn) (1.21.5)\n",
      "Requirement already satisfied: packaging>=20.0 in c:\\users\\hasan\\anaconda3\\lib\\site-packages (from matplotlib>=2.2->seaborn) (21.3)\n",
      "Requirement already satisfied: python-dateutil>=2.7 in c:\\users\\hasan\\anaconda3\\lib\\site-packages (from matplotlib>=2.2->seaborn) (2.8.2)\n",
      "Requirement already satisfied: cycler>=0.10 in c:\\users\\hasan\\anaconda3\\lib\\site-packages (from matplotlib>=2.2->seaborn) (0.11.0)\n",
      "Requirement already satisfied: kiwisolver>=1.0.1 in c:\\users\\hasan\\anaconda3\\lib\\site-packages (from matplotlib>=2.2->seaborn) (1.3.2)\n",
      "Requirement already satisfied: pillow>=6.2.0 in c:\\users\\hasan\\anaconda3\\lib\\site-packages (from matplotlib>=2.2->seaborn) (9.0.1)\n",
      "Requirement already satisfied: pyparsing>=2.2.1 in c:\\users\\hasan\\anaconda3\\lib\\site-packages (from matplotlib>=2.2->seaborn) (3.0.4)\n",
      "Requirement already satisfied: fonttools>=4.22.0 in c:\\users\\hasan\\anaconda3\\lib\\site-packages (from matplotlib>=2.2->seaborn) (4.25.0)\n",
      "Requirement already satisfied: pytz>=2020.1 in c:\\users\\hasan\\anaconda3\\lib\\site-packages (from pandas>=0.23->seaborn) (2021.3)\n",
      "Requirement already satisfied: six>=1.5 in c:\\users\\hasan\\anaconda3\\lib\\site-packages (from python-dateutil>=2.7->matplotlib>=2.2->seaborn) (1.16.0)\n"
     ]
    }
   ],
   "source": [
    "!pip install seaborn"
   ]
  },
  {
   "cell_type": "code",
   "execution_count": 17,
   "id": "b01e975a",
   "metadata": {},
   "outputs": [
    {
     "data": {
      "text/plain": [
       "<AxesSubplot:>"
      ]
     },
     "execution_count": 17,
     "metadata": {},
     "output_type": "execute_result"
    },
    {
     "data": {
      "image/png": "[encoded data removed]",
      "text/plain": [
       "<Figure size 432x288 with 2 Axes>"
      ]
     },
     "metadata": {
      "needs_background": "light"
     },
     "output_type": "display_data"
    }
   ],
   "source": [
    "import seaborn as sns\n",
    "wcorr = womenDf.corr()\n",
    "sns.heatmap(wcorr)\n"
   ]
  },
  {
   "cell_type": "code",
   "execution_count": 16,
   "id": "702599b8",
   "metadata": {},
   "outputs": [
    {
     "data": {
      "text/plain": [
       "<AxesSubplot:>"
      ]
     },
     "execution_count": 16,
     "metadata": {},
     "output_type": "execute_result"
    },
    {
     "data": {
      "image/png": "[encoded data removed]",
      "text/plain": [
       "<Figure size 432x288 with 2 Axes>"
      ]
     },
     "metadata": {
      "needs_background": "light"
     },
     "output_type": "display_data"
    }
   ],
   "source": [
    "mcorr = menDf.corr()\n",
    "sns.heatmap(mcorr)\n"
   ]
  },
  {
   "cell_type": "code",
   "execution_count": null,
   "id": "c098f3a3",
   "metadata": {},
   "outputs": [],
   "source": []
  }
 ],
 "metadata": {
  "kernelspec": {
   "display_name": "Python 3 (ipykernel)",
   "language": "python",
   "name": "python3"
  },
  "language_info": {
   "codemirror_mode": {
    "name": "ipython",
    "version": 3
   },
   "file_extension": ".py",
   "mimetype": "text/x-python",
   "name": "python",
   "nbconvert_exporter": "python",
   "pygments_lexer": "ipython3",
   "version": "3.9.12"
  }
 },
 "nbformat": 4,
 "nbformat_minor": 5
}
